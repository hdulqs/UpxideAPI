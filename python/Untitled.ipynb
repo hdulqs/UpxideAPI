{
 "cells": [
  {
   "cell_type": "code",
   "execution_count": 9,
   "metadata": {},
   "outputs": [],
   "source": [
    "import secrets\n",
    "\n",
    "def makeData():\n",
    "    businessNo = \"100000100000000001\"\n",
    "    apiSecret  = \"n9JDYsQuatJtrf4LCQyqoCwHcPaPSZc4Qi2g1oS3BhicNG1t1r5wjEr3VJcpbCsV\"\n",
    "    nonceStr = getNonceStr()\n",
    "    return \"\"\n",
    "\n",
    "def getNonceStr():\n",
    "    return secrets.randbits(106)\n",
    "\n",
    "\n",
    "def generateSign( date, timestamp, nonceStr, apiSecret):\n",
    "    dataJson = {}\n",
    "    \n",
    "    dataJson['nonceStr'] = nonceStr\n",
    "    dataJson['timestamp'] = timestamp\n",
    "    dataJson['apiSecret'] = apiSecret\n",
    "    \n",
    "    result = \"\" "
   ]
  },
  {
   "cell_type": "code",
   "execution_count": 12,
   "metadata": {},
   "outputs": [],
   "source": [
    "import hashlib\n",
    "import binascii\n",
    "import uuid"
   ]
  },
  {
   "cell_type": "code",
   "execution_count": 13,
   "metadata": {},
   "outputs": [
    {
     "data": {
      "text/plain": [
       "'2aa2ac4432a7f889f35d621068906d34'"
      ]
     },
     "execution_count": 13,
     "metadata": {},
     "output_type": "execute_result"
    }
   ],
   "source": [
    "hex_string = '000002321000'\n",
    "hashlib.md5(binascii.unhexlify(hex_string)).hexdigest()"
   ]
  },
  {
   "cell_type": "code",
   "execution_count": 16,
   "metadata": {},
   "outputs": [],
   "source": [
    "def getRandomHEXString(string_length=32):\n",
    "    random = str(uuid.uuid4()) # Convert UUID format to a Python string.\n",
    "    random = random.upper() # Make all characters uppercase.\n",
    "    random = random.replace(\"-\",\"\") # Remove the UUID '-'.\n",
    "    return random[0:string_length] # Return the random string."
   ]
  },
  {
   "cell_type": "code",
   "execution_count": 17,
   "metadata": {},
   "outputs": [
    {
     "data": {
      "text/plain": [
       "'0746250183B04A9B82042A42340229CC'"
      ]
     },
     "execution_count": 17,
     "metadata": {},
     "output_type": "execute_result"
    }
   ],
   "source": [
    "my_random_string()"
   ]
  },
  {
   "cell_type": "code",
   "execution_count": 27,
   "metadata": {},
   "outputs": [
    {
     "data": {
      "text/plain": [
       "70560228773613652587652454457637"
      ]
     },
     "execution_count": 27,
     "metadata": {},
     "output_type": "execute_result"
    }
   ],
   "source": [
    "\n",
    "\n",
    "# 28439822335413120350083628075927"
   ]
  },
  {
   "cell_type": "code",
   "execution_count": null,
   "metadata": {},
   "outputs": [],
   "source": [
    "28439822335413120350083628075927\n",
    "23594592263177420601227694117625\n",
    "\n",
    "70560228773613652587652454457637\n"
   ]
  }
 ],
 "metadata": {
  "kernelspec": {
   "display_name": "Python 3",
   "language": "python",
   "name": "python3"
  },
  "language_info": {
   "codemirror_mode": {
    "name": "ipython",
    "version": 3
   },
   "file_extension": ".py",
   "mimetype": "text/x-python",
   "name": "python",
   "nbconvert_exporter": "python",
   "pygments_lexer": "ipython3",
   "version": "3.7.0"
  }
 },
 "nbformat": 4,
 "nbformat_minor": 2
}
