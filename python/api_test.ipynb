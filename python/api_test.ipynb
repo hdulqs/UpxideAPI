{
 "cells": [
  {
   "cell_type": "code",
   "execution_count": 72,
   "metadata": {},
   "outputs": [],
   "source": [
    "import secrets\n",
    "import time\n",
    "import hashlib\n",
    "import binascii\n",
    "import uuid\n",
    "import hashlib\n",
    "import operator\n",
    "import json\n",
    "\n",
    "def makeData():\n",
    "    businessNo = \"100000100000000001\"\n",
    "    apiSecret  = \"n9JDYsQuatJtrf4LCQyqoCwHcPaPSZc4Qi2g1oS3BhicNG1t1r5wjEr3VJcpbCsV\"\n",
    "    nonceStr = getNonceStr()\n",
    "    return \"\"\n",
    "\n",
    "def getNonceStr():\n",
    "    return secrets.randbits(106)\n"
   ]
  },
  {
   "cell_type": "code",
   "execution_count": 74,
   "metadata": {},
   "outputs": [],
   "source": [
    "def getRandomHEXString(string_length=32):\n",
    "    random = str(uuid.uuid4()) # Convert UUID format to a Python string.\n",
    "    random = random.upper() # Make all characters uppercase.\n",
    "    random = random.replace(\"-\",\"\") # Remove the UUID '-'.\n",
    "    return random[0:string_length] # Return the random string."
   ]
  },
  {
   "cell_type": "code",
   "execution_count": 75,
   "metadata": {},
   "outputs": [],
   "source": [
    "def getTimeStamp():\n",
    "    return int(round(time.time()))"
   ]
  },
  {
   "cell_type": "code",
   "execution_count": 64,
   "metadata": {},
   "outputs": [],
   "source": [
    "def md5Hash(message):\n",
    "    return hashlib.md5(message.encode()).hexdigest().upper()"
   ]
  },
  {
   "cell_type": "code",
   "execution_count": 76,
   "metadata": {},
   "outputs": [],
   "source": [
    "\n",
    "def generateSign(data, timestamp, nonceStr, apiSecret):\n",
    "    dataJson={}\n",
    "    for key in data:\n",
    "        if data != None:\n",
    "            dataJson[key]=data[key]    \n",
    "    dataJson['nonceStr'] = nonceStr\n",
    "    dataJson['timestamp'] = timestamp\n",
    "    dataJson['apiSecret'] = apiSecret\n",
    "    dataJson = sorted(dataJson.items(), key=operator.itemgetter(0,1))\n",
    "    dataJson = json.dumps(dataJson)\n",
    "    sign = md5Hash(dataJson)"
   ]
  },
  {
   "cell_type": "code",
   "execution_count": 66,
   "metadata": {},
   "outputs": [],
   "source": []
  },
  {
   "cell_type": "code",
   "execution_count": 67,
   "metadata": {},
   "outputs": [],
   "source": []
  },
  {
   "cell_type": "code",
   "execution_count": 68,
   "metadata": {},
   "outputs": [
    {
     "name": "stdout",
     "output_type": "stream",
     "text": [
      "C3557CA22ADA1CCAFCC43F8013EF0251\n"
     ]
    }
   ],
   "source": [
    "\n",
    "\n",
    "    "
   ]
  },
  {
   "cell_type": "code",
   "execution_count": 77,
   "metadata": {},
   "outputs": [],
   "source": [
    "import operator\n",
    "import json\n",
    "def generateSign(data, timestamp, nonceStr, apiSecret):\n",
    "    dataJson={}\n",
    "    for key in data:\n",
    "        if data != None:\n",
    "            dataJson[key]=data[key]    \n",
    "    dataJson['nonceStr'] = nonceStr\n",
    "    dataJson['timestamp'] = timestamp\n",
    "    dataJson['apiSecret'] = apiSecret\n",
    "    dataJson = sorted(dataJson.items(), key=operator.itemgetter(0,1))\n",
    "    dataJson = json.dumps(dataJson)\n",
    "    sign = md5Hash(dataJson)\n",
    "#     print(sign)\n",
    "    \n",
    "    \n",
    "    \n",
    "generateSign({}, getTimeStamp(), getNonceStr(), 'n9JDYsQuatJtrf4LCQyqoCwHcPaPSZc4Qi2g1oS3BhicNG1t1r5wjEr3VJcpbCsV')"
   ]
  },
  {
   "cell_type": "code",
   "execution_count": 71,
   "metadata": {},
   "outputs": [
    {
     "name": "stdout",
     "output_type": "stream",
     "text": [
      "1533716051\n"
     ]
    }
   ],
   "source": []
  },
  {
   "cell_type": "code",
   "execution_count": null,
   "metadata": {},
   "outputs": [],
   "source": [
    "1533715609\n",
    "1533715747"
   ]
  }
 ],
 "metadata": {
  "kernelspec": {
   "display_name": "Python 3",
   "language": "python",
   "name": "python3"
  },
  "language_info": {
   "codemirror_mode": {
    "name": "ipython",
    "version": 3
   },
   "file_extension": ".py",
   "mimetype": "text/x-python",
   "name": "python",
   "nbconvert_exporter": "python",
   "pygments_lexer": "ipython3",
   "version": "3.7.0"
  }
 },
 "nbformat": 4,
 "nbformat_minor": 2
}
